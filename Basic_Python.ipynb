{
  "nbformat": 4,
  "nbformat_minor": 0,
  "metadata": {
    "colab": {
      "provenance": [],
      "authorship_tag": "ABX9TyMsl2GRVAGJwoLuikoTCD52"
    },
    "kernelspec": {
      "name": "python3",
      "display_name": "Python 3"
    },
    "language_info": {
      "name": "python"
    }
  },
  "cells": [
    {
      "cell_type": "code",
      "execution_count": null,
      "metadata": {
        "colab": {
          "base_uri": "https://localhost:8080/"
        },
        "id": "5R9Uz19bc9q_",
        "outputId": "cc7f4953-3c1e-4b1b-b3b4-ca50525f2791"
      },
      "outputs": [
        {
          "output_type": "stream",
          "name": "stdout",
          "text": [
            "Enter Radius of Circle to find AREA of Circle2\n",
            "Area of circle :  12.56\n"
          ]
        }
      ],
      "source": [
        "Radius=int(input(\"Enter Radius of Circle to find AREA of Circle\"))\n",
        "circle=3.14*Radius*Radius\n",
        "print(\"Area of circle : \",circle)"
      ]
    },
    {
      "cell_type": "code",
      "source": [
        "Radius=int(input(\"Enter Radius of Circle to Find circumference of circle\"))\n",
        "circle=3.14*Radius*2\n",
        "print(\"Circumference of circle : \",circle)"
      ],
      "metadata": {
        "colab": {
          "base_uri": "https://localhost:8080/"
        },
        "id": "aCFPMqrYdGti",
        "outputId": "f6a3cd0f-b03e-4bd3-da72-e58a2d85ce24"
      },
      "execution_count": null,
      "outputs": [
        {
          "output_type": "stream",
          "name": "stdout",
          "text": [
            "Enter Radius of Circle to Find circumference of circle20\n",
            "Circumference of circle :  125.60000000000001\n"
          ]
        }
      ]
    },
    {
      "cell_type": "code",
      "source": [
        "print(\"Area of rectangle\", int(input(\"Enter width: \"))*int(input(\"Enter length: \")))"
      ],
      "metadata": {
        "colab": {
          "base_uri": "https://localhost:8080/"
        },
        "id": "kqX-QmEGdLZw",
        "outputId": "8f636b47-3bc2-461d-c4d2-f99e117e1a07"
      },
      "execution_count": null,
      "outputs": [
        {
          "output_type": "stream",
          "name": "stdout",
          "text": [
            "Enter width: 10\n",
            "Enter length: 2\n",
            "Area of rectangle 20\n"
          ]
        }
      ]
    },
    {
      "cell_type": "code",
      "source": [
        "print(\"To Calculate volume of sphere\")\n",
        "rad=int(input(\"Enter Radius: \"))\n",
        "sphere=4/3*3.14*rad*rad*rad\n",
        "print(\"Volume of Sphere\",sphere)"
      ],
      "metadata": {
        "colab": {
          "base_uri": "https://localhost:8080/"
        },
        "id": "ceEIGxpWdXne",
        "outputId": "a0f3623d-6b27-43de-df48-a2c96bda6538"
      },
      "execution_count": null,
      "outputs": [
        {
          "output_type": "stream",
          "name": "stdout",
          "text": [
            "To Calculate volume of sphere\n",
            "Enter Radius: 5\n",
            "Volume of Sphere 104.66666666666667\n"
          ]
        }
      ]
    },
    {
      "cell_type": "code",
      "source": [
        "print(\"To Find surface area of sphere\")\n",
        "radi=int(input(\"Enter Radius: \"))\n",
        "sphere=4*3.14*radi*radi\n",
        "print(\"Volume of Sphere\",sphere)"
      ],
      "metadata": {
        "colab": {
          "base_uri": "https://localhost:8080/"
        },
        "id": "acrNEPbWeOJN",
        "outputId": "581cccb6-2a93-4d92-afe8-2d6c315b52e5"
      },
      "execution_count": null,
      "outputs": [
        {
          "output_type": "stream",
          "name": "stdout",
          "text": [
            "To Find surface area of sphere\n",
            "Enter Radius: 2\n",
            "Volume of Sphere 50.24\n"
          ]
        }
      ]
    },
    {
      "cell_type": "code",
      "source": [
        "print(\"To Find area of square\")\n",
        "side=int(input(\"Enter Side: \"))\n",
        "square=side*side\n",
        "print(\"area of square\",square)"
      ],
      "metadata": {
        "colab": {
          "base_uri": "https://localhost:8080/"
        },
        "id": "QlxOpuQLek8R",
        "outputId": "89eb1c3d-cb85-49de-a5a0-ef44d50aaf10"
      },
      "execution_count": null,
      "outputs": [
        {
          "output_type": "stream",
          "name": "stdout",
          "text": [
            "To Find area of square\n",
            "Enter Side: 5\n",
            "area of square 25\n"
          ]
        }
      ]
    },
    {
      "cell_type": "code",
      "source": [
        "print(\"To Find area of right angle triangle\")\n",
        "base=int(input(\"Enter base: \"))\n",
        "height=int(input(\"Enter base: \"))\n",
        "tri=base*height*.5\n",
        "print(\"area of right angle triangle\",tri)"
      ],
      "metadata": {
        "colab": {
          "base_uri": "https://localhost:8080/"
        },
        "id": "-as4F4Goe4u7",
        "outputId": "42f45ef6-e6dc-4f35-d2f0-70e2c90dd413"
      },
      "execution_count": null,
      "outputs": [
        {
          "output_type": "stream",
          "name": "stdout",
          "text": [
            "To Find area of right angle triangle\n",
            "Enter base: 2\n",
            "Enter base: 5\n",
            "area of squareright angle triangle 5.0\n"
          ]
        }
      ]
    },
    {
      "cell_type": "code",
      "source": [
        "print(\"To Find area of equilateral triangle\")\n",
        "side=int(input(\"Enter side: \"))\n",
        "tri=1.732/4*side*side\n",
        "print(\"area of equilateral triangle\",tri)"
      ],
      "metadata": {
        "colab": {
          "base_uri": "https://localhost:8080/"
        },
        "id": "Fuo2N6iMfYWu",
        "outputId": "1650922e-8456-4261-b8d2-06b72ea2762e"
      },
      "execution_count": null,
      "outputs": [
        {
          "output_type": "stream",
          "name": "stdout",
          "text": [
            "To Find area of equilateral triangle\n",
            "Enter side: 55\n",
            "area of equilateral triangle 1309.825\n"
          ]
        }
      ]
    },
    {
      "cell_type": "code",
      "source": [
        "print(\"To Find perimeter of rectangle\")\n",
        "l=int(input(\"Enter length: \"))\n",
        "b=int(input(\"Enter breath: \"))\n",
        "rect=l+b\n",
        "print(\"perimeter of rectangle\",rect)"
      ],
      "metadata": {
        "colab": {
          "base_uri": "https://localhost:8080/"
        },
        "id": "XR-OytcHf2wA",
        "outputId": "117276ed-302f-4ecb-e32d-fa767f024194"
      },
      "execution_count": null,
      "outputs": [
        {
          "output_type": "stream",
          "name": "stdout",
          "text": [
            "To Find perimeter of rectangle\n",
            "Enter length: 55\n",
            "Enter breath: 55\n",
            "perimeter of rectangle 110\n"
          ]
        }
      ]
    },
    {
      "cell_type": "code",
      "source": [
        "print(\"To Find area of triangle\")\n",
        "h=int(input(\"Enter height: \"))\n",
        "b=int(input(\"Enter base: \"))\n",
        "tri=h*b*.5\n",
        "print(\"area of triangle\",tri)"
      ],
      "metadata": {
        "colab": {
          "base_uri": "https://localhost:8080/"
        },
        "id": "wQutnRQxgMmv",
        "outputId": "9974b571-be85-4560-d0d8-331d4673487f"
      },
      "execution_count": null,
      "outputs": [
        {
          "output_type": "stream",
          "name": "stdout",
          "text": [
            "To Find area of triangle\n",
            "Enter height: 2\n",
            "Enter base: 2\n",
            "area of triangle 2.0\n"
          ]
        }
      ]
    },
    {
      "cell_type": "code",
      "source": [
        "print(\"Enter amount,, duration in months,rate of interest \\n\")\n",
        "p=float(input())\n",
        "r=float(input())\n",
        "t=int(input())\n",
        "sim=(p*(r/100)*t)/100\n",
        "print(\"simple interest :\",sim)"
      ],
      "metadata": {
        "colab": {
          "base_uri": "https://localhost:8080/"
        },
        "id": "qQv3JBLYgk8v",
        "outputId": "d00d9564-6187-4ea7-ef23-10b9f8de7242"
      },
      "execution_count": null,
      "outputs": [
        {
          "output_type": "stream",
          "name": "stdout",
          "text": [
            "Enter amount,, duration in months,rate of interest \n",
            "\n",
            "10.2\n",
            "5.3\n",
            "25\n",
            "simple interest : 0.13515\n"
          ]
        }
      ]
    },
    {
      "cell_type": "code",
      "source": [
        "print(\"Enter principal, duration in months,rate of interest,compounding_frequency \\n\")\n",
        "p=float(input())\n",
        "r=float(input())\n",
        "t=int(input())\n",
        "c=int(input())\n",
        "com=(p*(1+r/c))**(r*t)\n",
        "print(\"compound interest :\",com)"
      ],
      "metadata": {
        "colab": {
          "base_uri": "https://localhost:8080/"
        },
        "id": "OAededP9hF8b",
        "outputId": "ae1bf6fa-2898-4f4a-91e9-1686a58a5752"
      },
      "execution_count": null,
      "outputs": [
        {
          "output_type": "stream",
          "name": "stdout",
          "text": [
            "Enter principal, duration in months,rate of interest,compounding_frequency \n",
            "\n",
            "2.5\n",
            "3.2\n",
            "2\n",
            "5\n",
            "compound interest : 8352.503821392967\n"
          ]
        }
      ]
    },
    {
      "cell_type": "code",
      "source": [
        "print(\"To Convert days into years\")\n",
        "days=int(input(\"Enter days: \"))\n",
        "years = days / 365\n",
        "print(\"years\",years)"
      ],
      "metadata": {
        "colab": {
          "base_uri": "https://localhost:8080/"
        },
        "id": "RabT9oFnh5hr",
        "outputId": "7785d16d-275b-4ea3-b449-438250bdac95"
      },
      "execution_count": null,
      "outputs": [
        {
          "output_type": "stream",
          "name": "stdout",
          "text": [
            "To Convert days into years\n",
            "Enter days: 452\n",
            "years 1.2383561643835617\n"
          ]
        }
      ]
    },
    {
      "cell_type": "code",
      "source": [
        "print(\"To Convert  Fahrenheit to Celsius conversion\")\n",
        "fah=int(input(\"Enter Fahrenheit: \"))\n",
        "celsius = (5/9)*(fah-3)\n",
        "print(\"Celsius\",celsius)\n"
      ],
      "metadata": {
        "colab": {
          "base_uri": "https://localhost:8080/"
        },
        "id": "miQDR_5yiPPH",
        "outputId": "fec79ba9-ea73-441d-8a91-6677dc3f38df"
      },
      "execution_count": null,
      "outputs": [
        {
          "output_type": "stream",
          "name": "stdout",
          "text": [
            "To Convert  Fahrenheit to Celsius conversion\n",
            "Enter Fahrenheit: 32\n",
            "Celsius 16.11111111111111\n"
          ]
        }
      ]
    }
  ]
}